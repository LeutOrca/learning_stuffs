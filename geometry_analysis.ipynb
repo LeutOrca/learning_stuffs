{
 "cells": [
  {
   "cell_type": "markdown",
   "metadata": {},
   "source": [
    "# 1. Basic Concepts"
   ]
  },
  {
   "cell_type": "markdown",
   "metadata": {},
   "source": [
    "1. Bond Lengths"
   ]
  },
  {
   "cell_type": "code",
   "execution_count": null,
   "metadata": {},
   "outputs": [],
   "source": [
    "run ../scripts/geometry_analysis/bonds.py ../geom/xyz/h2o.xyz"
   ]
  },
  {
   "cell_type": "markdown",
   "metadata": {},
   "source": [
    "2. Bond Angles"
   ]
  },
  {
   "cell_type": "code",
   "execution_count": null,
   "metadata": {},
   "outputs": [],
   "source": [
    "run ../scripts/geometry_analysis/angles.py ../geom/xyz/h2o.xyz"
   ]
  },
  {
   "cell_type": "markdown",
   "metadata": {},
   "source": [
    "3. Torsion Angles"
   ]
  },
  {
   "cell_type": "code",
   "execution_count": null,
   "metadata": {},
   "outputs": [],
   "source": [
    "run ../scripts/geometry_analysis/torsions.py ../geom/xyz/h2o.xyz"
   ]
  },
  {
   "cell_type": "markdown",
   "metadata": {},
   "source": [
    "4. Z-matrix Coordinates"
   ]
  },
  {
   "cell_type": "code",
   "execution_count": null,
   "metadata": {},
   "outputs": [],
   "source": [
    "run ../scripts/geometry_analysis/zmat2xyz.py ../geom/zmat/ethane.zmat"
   ]
  },
  {
   "cell_type": "markdown",
   "metadata": {},
   "source": [
    "5. Out-of-Plane Angles"
   ]
  },
  {
   "cell_type": "code",
   "execution_count": null,
   "metadata": {},
   "outputs": [],
   "source": [
    "run ../scripts/geometry_analysis/out_of_planes.py ../geom/xyz/ch2o.xyz"
   ]
  },
  {
   "cell_type": "markdown",
   "metadata": {},
   "source": [
    "6. Center of Mass\n",
    "\n",
    "a. 0th moment of mass -- total mass &nbsp; &nbsp; &nbsp; &nbsp; &nbsp; &nbsp; &nbsp; (scalar)<br>\n",
    "b. 1st moment of mass -- center of mass &nbsp; &nbsp; &nbsp; (vector)<br>\n",
    "c. 2nd moment of mass -- moment of inertia (matrix)<br>\n",
    "$$1 amu = 1.66054 * 10^{-27} kg$$"
   ]
  },
  {
   "cell_type": "code",
   "execution_count": null,
   "metadata": {},
   "outputs": [],
   "source": [
    "run ../scripts/geometry_analysis/center_of_mass.py ../geom/xyz/benzene.xyz"
   ]
  },
  {
   "cell_type": "markdown",
   "metadata": {},
   "source": [
    "7. Moment of Inertia\n",
    "\n",
    "    Resistance to torque / angular acceleration [$kg*m^2$] or [$amu*Angstrong^2$]\n",
    "\n",
    "    $$I = \\begin{pmatrix} I_{xx} & I_{xy} & I_{xz} \\\\ I_{yx} & I_{yy} & I_{yz} \\\\ I_{zx} & I_{zy} & I_{zz} \\end{pmatrix}$$\n",
    "\n",
    "    $$I_{xx} = Σ_{i=1}^{N} m_{i}*(y_i^2 + z_i^2)$$\n",
    "\n",
    "    $$I_{yy} = Σ_{i=1}^{N} m_{i}*(x_i^2 + z_i^2)$$\n",
    "\n",
    "    $$I_{zz} = Σ_{i=1}^{N} m_{i}*(x_i^2 + y_i^2)$$\n",
    "\n",
    "    $$I_{xy} = I_{yx} = -Σ_{i=1}^N m_i x_i y_i$$\n",
    "\n",
    "    $$I_{xz} = I_{zx} = -Σ_{i=1}^N m_i x_i z_i$$\n",
    "\n",
    "    $$I_{yz} = I_{zy} = -Σ_{i=1}^N m_i y_i z_i$$"
   ]
  },
  {
   "cell_type": "code",
   "execution_count": null,
   "metadata": {},
   "outputs": [],
   "source": [
    "run ../scripts/geometry_analysis/moment_of_inertia.py ../geom/xyz/h2o.xyz"
   ]
  },
  {
   "cell_type": "markdown",
   "metadata": {},
   "source": [
    "8. Rotational Constants\n",
    "\n",
    "    3 eigenvalues  &rarr; rotational constants [$amu*A^2$]<br>\n",
    "    3 eigenvectors &rarr; principal axes of rotation<br>\n",
    "    Convert constants ($I_a$, $I_b$, $I_c$) to $MHz$ or $cm^{-1}$\n",
    "\n",
    "    $I_a \\leq I_b \\leq I_c$ &rarr; $A \\geq B \\geq C$ \n",
    "\n",
    "    $A = 10^{-6} \\frac{h}{8 \\pi^2 I_a}$, &nbsp; &nbsp; &nbsp; &nbsp; $\\tilde{A} = \\frac{h}{8\\pi^2 I_a}$\n",
    "\n",
    "    $B = 10^{-6} \\frac{h}{8 \\pi^2 I_a}$, &nbsp; &nbsp; &nbsp; &nbsp; $\\tilde{B} = \\frac{h}{8\\pi^2 I_a}$\n",
    "\n",
    "    $C = 10^{-6} \\frac{h}{8 \\pi^2 I_a}$, &nbsp; &nbsp; &nbsp; &nbsp; $\\tilde{C} = \\frac{h}{8\\pi^2 I_a}$\n",
    "\n",
    "    $A, B, C$ &rarr; $\\left[MHz\\right]$\n",
    "\n",
    "    $\\tilde{A}, \\tilde{B}, \\tilde{C}$ &rarr; $\\left[cm^{-1}\\right]$\n",
    "\n",
    "    Where $c = 3.0 * 10^{10} cm/s$\n",
    "\n",
    "\n",
    "    |     Cases     |     Molecular types     |     Symmetry     |\n",
    "    |:-------------:|:-----------------------:|:----------------:|\n",
    "    |   $A>B>C>0$   |      asymmetric top     |      Abelian     |\n",
    "    |   $A=B=C=0$   |        monoatomic       |       $K_h$      |\n",
    "    |   $A=B>C=0$   |          linear         |$D_{\\infty h}$ or $C_{\\infty v}$|\n",
    "    |   $A=B>C>0$   |   oblate symmetric top  |    non-Abelian   |\n",
    "    |   $A>B=C>0$   |  prolate symmetric top  |    non-Abelian   |\n",
    "    |   $A=B=C>0$   |      spherical top      |       cubic      |\n",
    "\n",
    "    translate to center of mass &nbsp; &rarr; &nbsp; rotate to principal axes &nbsp; &rarr; &nbsp; unique coordinates"
   ]
  },
  {
   "cell_type": "code",
   "execution_count": null,
   "metadata": {},
   "outputs": [],
   "source": [
    "run ../scripts/geometry_analysis/geometry_analysis.py ../geom/xyz/benzene.xyz"
   ]
  },
  {
   "cell_type": "markdown",
   "metadata": {},
   "source": [
    "# 2. Molecular Mechanics"
   ]
  },
  {
   "cell_type": "markdown",
   "metadata": {},
   "source": [
    "1. Energy Functions<br>\n",
    "\n",
    "    A mathematical algorithm that inputs the state of a system and outputs the energy. <br>\n",
    "\n",
    "    ||State||\n",
    "     &rarr; Energy function &rarr; \n",
    "    ||Energy||\n",
    "\n",
    "    System state may include:<br>\n",
    "    &nbsp;<br>\n",
    "    I. Coordinates<br>\n",
    "    II. Bonded structure<br>\n",
    "    III. External elements<br>\n",
    "    IV. Empirical parameters<br>\n",
    "    V. Charge, spin\n",
    "\n",
    "    Energy function may include:<br>\n",
    "    &nbsp;<br>\n",
    "    I. logic<br>\n",
    "    II. arithmetic<br>\n",
    "    III. algebra<br>\n",
    "    IV. calculus<br>\n",
    "    V. numerical procedure<br>\n",
    "    &nbsp;<br>\n",
    "\n",
    "    Simple or Complex<br>\n",
    "    Analytic or Numerical<br>\n",
    "    Quantum Mechanic or Molecular Mechanics or others<br>\n",
    "    Ab initio or Empirical<br>\n",
    "    Atomistic or Coarse-grained<br>"
   ]
  },
  {
   "cell_type": "markdown",
   "metadata": {},
   "source": [
    "2. Molecular Mechanics\n",
    "\n",
    "    A set of models which use an empirical, algebraic, atomistic energy function for chemical systems. \n",
    "\n",
    "    $$E_{total} = E_{bonded} + E_{non-bonded}$$\n",
    "    $$E_{bonded} = E_{bonds} + E_{angles} + E_{torsions}$$\n",
    "    $$E_{non-bonded} = E_{elst} + E_{vdw}$$\n",
    "    Where:<br>\n",
    "      elst &rarr; electrostatic<br>\n",
    "      vdw &rarr; van der Wall<br>\n",
    "\n",
    "    Force Field Models:<br>\n",
    "        I. atoms: 3D point particles<br>\n",
    "        II. structure: bonds, angles, torsions\n",
    "\n",
    "    <br>\n",
    "    Limitations:<br>\n",
    "    <br>\n",
    "        I. Up tp 1,000,000s of atoms<br>\n",
    "        II. Up to 10^15 configurations<br>\n",
    "        III. Low accuracy of energy<br>\n",
    "        IV. Narrow scope of parameters"
   ]
  },
  {
   "cell_type": "code",
   "execution_count": null,
   "metadata": {},
   "outputs": [],
   "source": []
  },
  {
   "cell_type": "markdown",
   "metadata": {},
   "source": [
    "3. Force Field Parameters\n",
    "\n",
    "    An arbitrary constant whose value characterizes an element of a system\n",
    "\n",
    "    $$ E_{total} = Σ_{bonds} K_b(r_{eq})^2 + ... $$\n",
    "    E &rarr; [kcal/mol] &nbsp; &nbsp; &nbsp; &nbsp; r &rarr; $\\left[\\mathring{A}\\right]$\n",
    "    \n",
    "    $r_{eq}$ &rarr; [$\\mathring{A}$] &nbsp; &nbsp; &nbsp; &nbsp; $K_b$ &rarr; $\\left[\\frac{kcal}{mol*\\mathring{A}}\\right]$\n",
    "\n",
    "    Example:<br>\n",
    "\n",
    "    O-H in $H_2O$ in AMBER 95:<br>\n",
    "    $$ r_{eq} = 0.960 \\mathring{A}, K_b = 553.0 \\frac{kcal}{mol \\mathring{A}} $$\n",
    "\n",
    "    <br>\n",
    "    Sources:<br>\n",
    "    ~ structure &rarr; crystal & density<br>\n",
    "    ~ spectra &rarr; IR & NMR<br>\n",
    "    ~ simulation &rarr; P.E.S<br>\n",
    "\n",
    "    <br>\n",
    "    Desired properties:<br>\n",
    "    ~ General<br>\n",
    "    ~ Transferable<br>\n",
    "    ~ Accurate<br>\n"
   ]
  },
  {
   "cell_type": "code",
   "execution_count": null,
   "metadata": {},
   "outputs": [],
   "source": []
  },
  {
   "cell_type": "markdown",
   "metadata": {},
   "source": [
    "4. Atom Types\n",
    "\n",
    "    Want transferable parameters\n",
    "\n",
    "    Use same parameters for similar atoms, like methane, ethane, propane.\n",
    "    $$ \\epsilon_{Me} = \\epsilon_{Et} = \\epsilon_{Pr} $$\n",
    "    $$ q_{Me} = q_{Et} = q_{Pr} $$\n",
    "    $$ (r_{eq})_{C-C_{Et}} = (r_{eq})_{C-C_{Pr}} $$\n",
    "    Aliphatic $sp^3$ C atom &rarr; CT \"atom type\"\n",
    "\n",
    "    Oxygen type in AMBER:<br>\n",
    "\n",
    "    ~ OW: water<br>\n",
    "    ~ OH: alcohols<br>\n",
    "    ~ OS: ethers<br>\n",
    "    ~ O: amides (carbonyl)<br>\n",
    "    ~ O2: carboxylates<br>  "
   ]
  },
  {
   "cell_type": "code",
   "execution_count": null,
   "metadata": {},
   "outputs": [],
   "source": []
  },
  {
   "cell_type": "markdown",
   "metadata": {},
   "source": [
    "5. Molecular Mechanics Bond Strech Terms\n",
    "\n",
    "    $$ E_{bonds} = \\Sigma_{bonds}{(r - r_{eq})^2} $$\n",
    "\n",
    "    Variable:<br>\n",
    "\n",
    "    $ r $ &rarr; bond length $\\left[\\mathring{A}\\right]$, &nbsp; &nbsp; &nbsp; &nbsp; $ 0 \\leq r \\leq \\infty $\n",
    "    \n",
    "    Parameters:<br>\n",
    "    \n",
    "    $ r_{eq} $ &rarr; equilibrium bond length $\\left[\\mathring{A}\\right]$<br>\n",
    "    $K_b$ &rarr; bond spring constant $\\left[\\frac{kcal}{mol \\mathring{A}^2}\\right]$\n",
    "    \n",
    "    <br>\n",
    "\n",
    "$$ K_b = \\frac{1}{2} \\frac{d^2E(r_{eq})}{dr^2} $$\n",
    "\n",
    "Typically $K_b = 300 - 600 \\frac{kcal}{mol \\mathring{A}^2}$"
   ]
  },
  {
   "cell_type": "code",
   "execution_count": null,
   "metadata": {},
   "outputs": [],
   "source": [
    "run ../scripts/molecular_mechanics/mm.py ../geom/prm/ch2o.prm"
   ]
  },
  {
   "cell_type": "markdown",
   "metadata": {},
   "source": [
    "6. MM Angle Bend Terms\n",
    "\n",
    "    $$ E_{angles} = \\Sigma_{angles} K_a (\\theta - \\theta_{eq})^2 $$\n",
    "\n",
    "    Parameters:<br>\n",
    "    - $\\theta_{eq}$ &rarr; equilibrium bond angle $[rad]$<br>\n",
    "    \n",
    "    - $K_a$ &rarr; angle spring constant $\\left[\\frac{kcal}{mol rad^2}\\right]$\n",
    "\n",
    "    Variable:<br>\n",
    "    - $\\theta$ &rarr; bond anle $[rad]$, $ 0 \\leq \\theta \\leq \\pi $\n",
    "\n",
    "    $$ E_{MM}(\\theta_{eq}) = 0 $$\n",
    "    $$ \\frac{dE_{MM}(\\theta_{eq})}{d\\theta} = 0 $$\n",
    "\n",
    "    $$ K_a = \\frac{1}{2} \\frac{d^2E(\\theta_{eq})}{d\\theta^2} $$\n",
    "\n",
    "    Typically, $K_a = 100 - 150 \\frac{kcal}{mol rad^2}$ "
   ]
  },
  {
   "cell_type": "code",
   "execution_count": null,
   "metadata": {},
   "outputs": [],
   "source": [
    "run ../scripts/molecular_mechanics/mm.py ../geom/prm/ethane.prm"
   ]
  },
  {
   "cell_type": "markdown",
   "metadata": {},
   "source": [
    "7. Torsion Strain Terms\n",
    "\n",
    "    $$ E_{tors} = \\Sigma_{tors} \\Sigma_{n=1}^{6} \\frac{1}{2} V_n [1+cos(n\\phi-\\gamma_n)] $$\n",
    "\n",
    "    Parameters:<br>\n",
    "    - $V_n$ &rarr; n-fold rotation barrier $\\left[\\frac{kcal}{mol}\\right]$<br>\n",
    "    - $\\gamma_n$ &rarr; phase offset $[rad]$\n",
    "\n",
    "    Variable:<br>\n",
    "    - $\\phi$ &rarr; dihedral (torsion) angle $[rad]$\n",
    "\n",
    "    $ 0 \\leq E_n \\leq V_n $, &nbsp; &nbsp; &nbsp; &nbsp; $ -180\\degree \\leq \\phi \\leq 180\\degree $\n",
    "\n",
    "    $$ V_{3_{HCCH}} = 1.40 \\frac{kcal}{mol} $$"
   ]
  },
  {
   "cell_type": "code",
   "execution_count": null,
   "metadata": {},
   "outputs": [],
   "source": [
    "run ../scripts/molecular_mechanics/mm.py ../geom/prm/ethane.prm"
   ]
  },
  {
   "cell_type": "markdown",
   "metadata": {},
   "source": [
    "8. Out-of-Plane Terms\n",
    "\n",
    "    $$ E_{oop} = \\Sigma_{oop} \\frac{1}{2} V [1 + cos(2\\phi-180\\degree)] $$\n",
    "\n",
    "    <center> out-of-plane angle / improper torsion </center>\n",
    "\n",
    "    Parameter:<br>\n",
    "    - $V$ &rarr; rotation barrier $\\left[\\frac{kacl}{mol}\\right]$\n",
    "\n",
    "    Variable:<br>\n",
    "    - $\\phi$ &rarr; out of plane angle $[rad]$\n",
    "\n",
    "    $0 \\leq $E_{oop} \\leq V$, &nbsp; &nbsp; &nbsp; &nbsp; $-90\\degree \\leq \\phi \\leq 90\\degree $\n",
    "\n",
    "    $$ V_{XXCH} = 1.1 \\frac{kcal}{mol} $$"
   ]
  },
  {
   "cell_type": "code",
   "execution_count": null,
   "metadata": {},
   "outputs": [],
   "source": [
    "run ../scripts/molecular_mechanics/mm.py ../geom/prm/ch2o.prm"
   ]
  },
  {
   "cell_type": "markdown",
   "metadata": {},
   "source": [
    "9. MM van der Waals Terms\n",
    "\n",
    "    $$ E_{vdw} = \\Sigma_{i=1}^{N} \\Sigma_{j=i+1}^{N} \\epsilon_{ij} \\left[\\left(\\frac{r_0}{r_{ij}}\\right)^{12} - 2\\left(\\frac{r_0}{r_{ij}}\\right)^6\\right] $$\n",
    "\n",
    "    Parameters:<br>\n",
    "    - $\\epsilon_{ij}$ &rarr; interaction strength $\\left[\\frac{kcal}{mol}\\right]$<br>\n",
    "    \n",
    "    - $r_0$ &rarr; van der Waals radius $\\left[\\mathring{A}\\right]$\n",
    "\n",
    "    Variable:<br>\n",
    "    - $r_{ij}$ &rarr; interatomic distance $\\left[\\mathring{A}\\right]$\n",
    "\n",
    "    $ E_{vdw}(0) = \\infty $, &nbsp;&nbsp;&nbsp;&nbsp; $0 \\leq r_{ij} < \\infty $\n",
    "\n",
    "    $ E_{vdw}(r_0) = -\\epsilon_{ij} $, &nbsp;&nbsp;&nbsp;&nbsp; $ -\\epsilon_{ij} \\leq E_{vdw} < \\infty $\n",
    "\n",
    "    $ E_{vdw}(\\infty) = 0 $\n",
    "\n",
    "    <center>\n",
    "    short range &rarr; exchange / steric repulsion<br>\n",
    "    long range &rarr; London dispersion attraction\n",
    "    </center>\n",
    "\n",
    "    $O(N)$ &rarr; bonded terms; &nbsp;&nbsp; $O(N^2)$ &rarr; non-bonded pairs\n",
    "\n",
    "    \"Combining rules\"<br>\n",
    "    - $\\epsilon_{ij} = \\sqrt{\\epsilon_{i} \\epsilon_{j}}$, &nbsp;&nbsp;&nbsp;&nbsp;\"geometric mean\"<br>\n",
    "    - $r_0 = \\frac{1}{2}\\left(r_i + r_j\\right)$, &nbsp;&nbsp;&nbsp;&nbsp;\"arithmetic mean\"<br>\n",
    "    - $\\epsilon_{i}, r_i$, &rarr; atomic parameters\n",
    "    "
   ]
  },
  {
   "cell_type": "code",
   "execution_count": null,
   "metadata": {},
   "outputs": [],
   "source": [
    "run ../scripts/molecular_mechanics/mm.py ../geom/prm/he20.prm"
   ]
  },
  {
   "cell_type": "markdown",
   "metadata": {},
   "source": []
  }
 ],
 "metadata": {
  "kernelspec": {
   "display_name": "Python 3",
   "language": "python",
   "name": "python3"
  },
  "language_info": {
   "codemirror_mode": {
    "name": "ipython",
    "version": 3
   },
   "file_extension": ".py",
   "mimetype": "text/x-python",
   "name": "python",
   "nbconvert_exporter": "python",
   "pygments_lexer": "ipython3",
   "version": "3.12.1"
  }
 },
 "nbformat": 4,
 "nbformat_minor": 2
}
